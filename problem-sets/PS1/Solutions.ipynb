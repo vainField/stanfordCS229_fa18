{
 "cells": [
  {
   "cell_type": "markdown",
   "metadata": {},
   "source": [
    "CS 229, Fall 2018\n",
    "# Problem Set #1: Supervised Learning"
   ]
  },
  {
   "cell_type": "markdown",
   "metadata": {},
   "source": [
    "## **1. [40 points] Linear Classifiers (logistic regression and GDA)**\n",
    "\n",
    "In this problem, we cover two probabilistic linear classifiers we have covered in class so far. First, a discriminative linear classifier: logistic regression. Second, a generative linear classifier: Gaussian discriminant analysis (GDA). Both the algorithms find a linear decision boundary that separates the data into two classes, but make different assumptions. Our goal in this problem is to get a deeper understanding of the similarities and differences (and, strengths and weaknesses) of these two algorithms.\n",
    "\n",
    "For this problem, we will consider two datasets, provided in the following files:\n",
    "\n",
    "i. `data/ds1_{train, valid}.csv`\n",
    "\n",
    "ii. `data/ds2_{train, valid}.csv`\n",
    "\n",
    "Each file contains $m$ examples, one example $\\left(x^{(i)}, y^{(i)}\\right)$ per row. In particular, the $i$-th row contains columns $x_{0}^{(i)} \\in \\mathbb{R}, x_{1}^{(i)} \\in \\mathbb{R}$, and $y^{(i)} \\in\\{0,1\\}$. In the subproblems that follow, we will investigate using logistic regression and Gaussian discriminant analysis (GDA) to perform binary classification on these two datasets."
   ]
  },
  {
   "cell_type": "markdown",
   "metadata": {},
   "source": [
    "### **(a)** \n",
    "---\n",
    "\n",
    "[10 points $]$ In lecture we saw the average empirical loss for logistic regression:\n",
    "\n",
    "$$\n",
    "J(\\theta)=-\\frac{1}{m} \\sum_{i=1}^{m} y^{(i)} \\log \\left(h_{\\theta}\\left(x^{(i)}\\right)\\right)+\\left(1-y^{(i)}\\right) \\log \\left(1-h_{\\theta}\\left(x^{(i)}\\right)\\right)\n",
    "$$\n",
    "\n",
    "where $y^{(i)} \\in\\{0,1\\}, h_{\\theta}(x)=g\\left(\\theta^{T} x\\right)$ and $g(z)=1 /\\left(1+e^{-z}\\right)$.\n",
    "\n",
    "Find the Hessian $H$ of this function, and show that for any vector $z$, it holds true that\n",
    "\n",
    "$$\n",
    "z^{T} H z \\geq 0 .\n",
    "$$\n",
    "\n",
    "**Hint:** You may want to start by showing that $\\sum_{i} \\sum_{j} z_{i} x_{i} x_{j} z_{j}=\\left(x^{T} z\\right)^{2} \\geq 0$. Recall also that $g^{\\prime}(z)=g(z)(1-g(z))$."
   ]
  },
  {
   "cell_type": "markdown",
   "metadata": {},
   "source": [
    "#### <span style=\"color:IndianRed\">**Solution:**\n",
    "\n",
    "<span style=\"color:IndianRed\">The gradient of $J(\\theta)$:\n",
    "\n",
    "$$\n",
    "\\color{IndianRed}{\n",
    "\\begin{align*}\n",
    "\\nabla J(\\theta) \n",
    "&= - {1\\over m} \\sum_{i = 1}^m {\n",
    "    {y^{(i)}}\\frac{\n",
    "      h_\\theta(x^{(i)})(1-h_\\theta(x^{(i)}))\n",
    "      x^{(i)}\n",
    "    }{h_{\\theta}(x^{(i)})}\n",
    "  } - (1-y^{(i)})\\frac{\n",
    "    h_\\theta(x^{(i)})(1-h_\\theta(x^{(i)}))\n",
    "    x^{(i)}\n",
    "  }{1-h_\\theta(x^{(i)})} \\\\\n",
    "&= -{1\\over m} \\sum_{i = 1}^m ({\n",
    "\t\ty^{(i)}(1-h_\\theta(x^{(i)})) - \n",
    "\t\t(1-y^{(i)}) h_\\theta(x^{(i)})\n",
    "\t})x^{(i)} \\\\\n",
    "&= -{1\\over m} \\sum_{i = 1}^m ({\n",
    "\t\ty^{(i)} - h_\\theta(x^{(i)})\n",
    "\t})x^{(i)}\n",
    "\\end{align*}\n",
    "}\n",
    "$$\n",
    "\n",
    "<span style=\"color:IndianRed\">The Hessian $H$:\n",
    "\n",
    "$$\n",
    "\\color{IndianRed}{\n",
    "H = \\nabla^2J(\\theta) = {1\\over m} \\sum_{i = 1}^m \n",
    "  h_\\theta(x^{(i)})(1-h_\\theta(x^{(i)}))\n",
    "  x^{(i)}(x^{(i)})^T\n",
    "}\n",
    "$$\n",
    "\n",
    "<span style=\"color:IndianRed\">For any vector $z$:\n",
    "\n",
    "$$\n",
    "\\color{IndianRed}{\n",
    "\\begin{align*}\n",
    "z^THz &= {1\\over m} \\sum_{i = 1}^m\n",
    "  h_\\theta(x^{(i)})(1-h_\\theta(x^{(i)}))\n",
    "  z^Tx^{(i)}(x^{(i)})^Tz \\\\\n",
    "&= {1\\over m} \\sum_{i = 1}^m\n",
    "  h_\\theta(x^{(i)})(1-h_\\theta(x^{(i)}))\n",
    "  ((x^{(i)})^Tz)^2 \\\\\n",
    "&\\ge 0\n",
    "\\end{align*}\n",
    "}\n",
    "$$\n"
   ]
  },
  {
   "cell_type": "markdown",
   "metadata": {},
   "source": [
    "**Remark:** This is one of the standard ways of showing that the matrix $H$ is positive semidefinite, written \" $H \\succeq 0$.\" This implies that $J$ is convex, and has no local minima other than the global one. If you have some other way of showing $H \\succeq 0$, you're also welcome to use your method instead of the one above."
   ]
  },
  {
   "cell_type": "markdown",
   "metadata": {},
   "source": [
    "### **(b)**\n",
    "---\n",
    "\n",
    "[5 points] **Coding problem.** Follow the instructions in src/p01b_logreg.py to train a logistic regression classifier using Newton's Method. Starting with $\\theta=\\overrightarrow{0}$, run Newton's Method until the updates to $\\theta$ are small: Specifically, train until the first iteration $k$ such that $\\left\\|\\theta_{k}-\\theta_{k-1}\\right\\|_{1}<\\epsilon$, where $\\epsilon=1 \\times 10^{-5}$. Make sure to write your model's predictions to the file specified in the code.\n",
    "\n",
    "#### <span style=\"color:IndianRed\">**Solution:**"
   ]
  },
  {
   "cell_type": "code",
   "execution_count": 1,
   "metadata": {},
   "outputs": [],
   "source": [
    "import numpy as np\n",
    "from src import util\n",
    "from src.linear_model import LinearModel\n",
    "from numpy import ndarray\n",
    "\n",
    "def p01b(train_path, eval_path, pred_path):\n",
    "    \"\"\"Problem 1(b): Logistic regression with Newton's Method.\n",
    "\n",
    "    Args:\n",
    "        train_path: Path to CSV file containing dataset for training.\n",
    "        eval_path: Path to CSV file containing dataset for evaluation.\n",
    "        pred_path: Path to save predictions.\n",
    "    \"\"\"\n",
    "    x_train, y_train = util.load_dataset(train_path, add_intercept=True)\n",
    "\n",
    "    # *** TODO: START CODE HERE ***\n",
    "    x_eval, y_eval = util.load_dataset(eval_path, add_intercept=True)\n",
    "    model = LogisticRegression(eps=1e-5)\n",
    "    model.fit(x_train, y_train)\n",
    "    y_pred = model.predict(x_eval)\n",
    "\n",
    "    accuracy = np.sum((y_pred > 0.5) == y_eval) / y_eval.shape[0]\n",
    "    print('Prediction accuracy is', accuracy)\n",
    "    util.plot(x_train, y_train, model.theta)\n",
    "    # *** END CODE HERE ***\n",
    "\n",
    "class LogisticRegression(LinearModel):\n",
    "    \"\"\"Logistic regression with Newton's Method as the solver.\n",
    "\n",
    "    Example usage:\n",
    "        > clf = LogisticRegression()\n",
    "        > clf.fit(x_train, y_train)\n",
    "        > clf.predict(x_eval)\n",
    "    \"\"\"\n",
    "\n",
    "    def fit(self, x: ndarray, y: ndarray):\n",
    "        \"\"\"Run Newton's Method to minimize J(theta) for logistic regression.\n",
    "\n",
    "        Args:\n",
    "            x: Training example inputs. Shape (m, n).\n",
    "            y: Training example labels. Shape (m,).\n",
    "        \"\"\"\n",
    "        # *** TODO: START CODE HERE ***\n",
    "        m, n = np.shape(x)\n",
    "        self.theta = np.zeros(n)\n",
    "        \n",
    "        while True:\n",
    "            score: ndarray = 1 / (1 + np.exp(-np.dot(x, self.theta)))\n",
    "            # likelihood: int = y * np.log(score) + (1 - y) * np.log(1 - score)\n",
    "            gradient = -np.dot(x.T, y - score) / m\n",
    "            hessian = np.dot(x.T * score * (1 - score), x) / m\n",
    "            \n",
    "            theta_old = self.theta.copy()\n",
    "            self.theta -= np.linalg.inv(hessian).dot(gradient)\n",
    "            if np.linalg.norm(self.theta - theta_old) < self.eps:\n",
    "                break\n",
    "        # *** END CODE HERE ***\n",
    "\n",
    "    def predict(self, x: ndarray):\n",
    "        \"\"\"Make a prediction given new inputs x.\n",
    "\n",
    "        Args:\n",
    "            x: Inputs of shape (m, n).\n",
    "\n",
    "        Returns:\n",
    "            Outputs of shape (m,).\n",
    "        \"\"\"\n",
    "        # *** TODO: START CODE HERE ***\n",
    "        return 1 / (1 + np.exp(-x.dot(self.theta)))\n",
    "        # *** END CODE HERE ***"
   ]
  },
  {
   "cell_type": "code",
   "execution_count": 2,
   "metadata": {},
   "outputs": [
    {
     "name": "stdout",
     "output_type": "stream",
     "text": [
      "Prediction accuracy is 0.9\n"
     ]
    },
    {
     "data": {
      "image/png": "[encoded data removed]",
      "text/plain": [
       "<Figure size 432x288 with 1 Axes>"
      ]
     },
     "metadata": {
      "needs_background": "light"
     },
     "output_type": "display_data"
    }
   ],
   "source": [
    "p01b(train_path='./data/ds1_train.csv',\n",
    "     eval_path='./data/ds1_valid.csv',\n",
    "     pred_path='output/p01b_pred_1.txt')"
   ]
  },
  {
   "cell_type": "code",
   "execution_count": 3,
   "metadata": {},
   "outputs": [
    {
     "name": "stdout",
     "output_type": "stream",
     "text": [
      "Prediction accuracy is 0.91\n"
     ]
    },
    {
     "data": {
      "image/png": "[encoded data removed]",
      "text/plain": [
       "<Figure size 432x288 with 1 Axes>"
      ]
     },
     "metadata": {
      "needs_background": "light"
     },
     "output_type": "display_data"
    }
   ],
   "source": [
    "p01b(train_path='./data/ds2_train.csv',\n",
    "     eval_path='./data/ds2_valid.csv',\n",
    "     pred_path='output/p01b_pred_2.txt')"
   ]
  },
  {
   "cell_type": "markdown",
   "metadata": {},
   "source": [
    "### **(c)**\n",
    "---\n",
    "\n",
    "[5 points] Recall that in GDA we model the joint distribution of $(x, y)$ by the following equations:\n",
    "\n",
    "$$\n",
    "\\begin{aligned}\n",
    "p(y) &= \\begin{cases}\\phi & \\text { if } y=1 \\\\\n",
    "1-\\phi & \\text { if } y=0\\end{cases} \\\\\n",
    "p(x \\mid y=0) &=\\frac{1}{(2 \\pi)^{n / 2}|\\Sigma|^{1 / 2}} \\exp \\left(-\\frac{1}{2}\\left(x-\\mu_{0}\\right)^{T} \\Sigma^{-1}\\left(x-\\mu_{0}\\right)\\right) \\\\\n",
    "p(x \\mid y=1) &=\\frac{1}{(2 \\pi)^{n / 2}|\\Sigma|^{1 / 2}} \\exp \\left(-\\frac{1}{2}\\left(x-\\mu_{1}\\right)^{T} \\Sigma^{-1}\\left(x-\\mu_{1}\\right)\\right)\n",
    "\\end{aligned}\n",
    "$$\n",
    "\n",
    "where $\\phi, \\mu_{0}, \\mu_{1}$, and $\\Sigma$ are the parameters of our model.\n",
    "\n",
    "Suppose we have already fit $\\phi, \\mu_{0}, \\mu_{1}$, and $\\Sigma$, and now want to predict $y$ given a new point $x$. To show that GDA results in a classifier that has a linear decision boundary, show the posterior distribution can be written as\n",
    "\n",
    "$$\n",
    "p\\left(y=1 \\mid x ; \\phi, \\mu_{0}, \\mu_{1}, \\Sigma\\right)=\\frac{1}{1+\\exp \\left(-\\left(\\theta^{T} x+\\theta_{0}\\right)\\right)},\n",
    "$$\n",
    "\n",
    "where $\\theta \\in \\mathbb{R}^{n}$ and $\\theta_{0} \\in \\mathbb{R}$ are appropriate functions of $\\phi, \\Sigma, \\mu_{0}$, and $\\mu_{1}$."
   ]
  },
  {
   "cell_type": "markdown",
   "metadata": {},
   "source": [
    "#### <span style=\"color:IndianRed\">**Solution:**\n",
    "\n",
    "<span style=\"color:IndianRed\">Using Bayes rule:\n",
    "\n",
    "$$\n",
    "\\color{IndianRed}{\n",
    "\\begin{align*}\n",
    "p(y = 1 | x) &= \\frac{p(x | y = 1)p(y = 1)}{p(x)}\n",
    "\\\\ &= \\frac{p(x|y = 1)p(y = 1)}{p(x|y = 1)p(y = 1) + p(x|y = 0)p(y = 0)}\n",
    "\\\\ &= \\frac{1}{1 + \\frac{p(x|y = 0)p(y = 0)}{p(x|y = 1)p(y = 1)}}\n",
    "\\\\ &= \\frac{1}\n",
    "\t{1 + {1 - \\phi \\over \\phi}\n",
    "\t\te^{\n",
    "    \t\\frac{1}{2}\\left(x-\\mu_{1}\\right)^{T} \\Sigma^{-1}\\left(x-\\mu_{1}\\right)\n",
    "    \t-\\frac{1}{2}\\left(x-\\mu_{0}\\right)^{T} \\Sigma^{-1}\\left(x-\\mu_{0}\\right)\n",
    "    }\n",
    "\t}\n",
    "\\\\ &= \\frac{1}\n",
    "\t{1 + e^{-(\n",
    "\t\t\t(\\Sigma^{-1}(\\mu_{1}-\\mu_{0}))^{T} x\n",
    "\t\t\t+ \\frac{1}{2}(\\mu_{0}+\\mu_{1})^{T} \\Sigma^{-1}(\\mu_{0}-\\mu_{1}) - \\ln(\\frac{1-\\phi}{\\phi})\n",
    "\t\t)}\n",
    "\t}\n",
    "\\end{align*}\n",
    "}\n",
    "$$\n",
    "\n",
    "<span style=\"color:IndianRed\">Thus:\n",
    "\n",
    "$$\n",
    "\\color{IndianRed}{\n",
    "p\\left(y=1 \\mid x ; \\phi, \\mu_{0}, \\mu_{1}, \\Sigma\\right)=\\frac{1}{1+\\exp \\left(-\\left(\\theta^{T} x+\\theta_{0}\\right)\\right)}\n",
    "}\n",
    "$$\n",
    "\n",
    "<span style=\"color:IndianRed\">where \n",
    "$\\theta = \\Sigma^{-1}(\\mu_{1}-\\mu_{0})$\n",
    ", and\n",
    "$\\theta_0 = \\frac{1}{2}(\\mu_{0}+\\mu_{1})^{T} \\Sigma^{-1}(\\mu_{0}-\\mu_{1}) - \\ln(\\frac{1-\\phi}{\\phi})$\n"
   ]
  },
  {
   "cell_type": "markdown",
   "metadata": {},
   "source": [
    "### **(d)**\n",
    "---\n",
    "\n",
    "[7 points] For this part of the problem only, you may assume $n$ (the dimension of $x$ ) is 1 , so that $\\Sigma=\\left[\\sigma^{2}\\right]$ is just a real number, and likewise the determinant of $\\Sigma$ is given by $|\\Sigma|=\\sigma^{2}$. Given the dataset, we claim that the maximum likelihood estimates of the parameters are given by\n",
    "\n",
    "$$\n",
    "\\begin{aligned}\n",
    "\\phi &=\\frac{1}{m} \\sum_{i=1}^{m} 1\\left\\{y^{(i)}=1\\right\\} \\\\\n",
    "\\mu_{0} &=\\frac{\\sum_{i=1}^{m} 1\\left\\{y^{(i)}=0\\right\\} x^{(i)}}{\\sum_{i=1}^{m} 1\\left\\{y^{(i)}=0\\right\\}} \\\\\n",
    "\\mu_{1} &=\\frac{\\sum_{i=1}^{m} 1\\left\\{y^{(i)}=1\\right\\} x^{(i)}}{\\sum_{i=1}^{m} 1\\left\\{y^{(i)}=1\\right\\}} \\\\\n",
    "\\Sigma &=\\frac{1}{m} \\sum_{i=1}^{m}\\left(x^{(i)}-\\mu_{y^{(i)}}\\right)\\left(x^{(i)}-\\mu_{y^{(i)}}\\right)^{T}\n",
    "\\end{aligned}\n",
    "$$\n",
    "\n",
    "The log-likelihood of the data is\n",
    "\n",
    "$$\n",
    "\\begin{aligned}\n",
    "\\ell\\left(\\phi, \\mu_{0}, \\mu_{1}, \\Sigma\\right) &=\\log \\prod_{i=1}^{m} p\\left(x^{(i)}, y^{(i)} ; \\phi, \\mu_{0}, \\mu_{1}, \\Sigma\\right) \\\\\n",
    "&=\\log \\prod_{i=1}^{m} p\\left(x^{(i)} \\mid y^{(i)} ; \\mu_{0}, \\mu_{1}, \\Sigma\\right) p\\left(y^{(i)} ; \\phi\\right)\n",
    "\\end{aligned}\n",
    "$$\n",
    "\n",
    "By maximizing $\\ell$ with respect to the four parameters, prove that the maximum likelihood estimates of $\\phi, \\mu_{0}, \\mu_{1}$, and $\\Sigma$ are indeed as given in the formulas above. (You may assume that there is at least one positive and one negative example, so that the denominators in the definitions of $\\mu_{0}$ and $\\mu_{1}$ above are non-zero.)"
   ]
  },
  {
   "cell_type": "markdown",
   "metadata": {},
   "source": [
    "#### <span style=\"color:IndianRed\">**Solution:**\n",
    "\n",
    "<span style=\"color:IndianRed\">The log-likelihood of the data in a GDA model is\n",
    "\n",
    "$$\n",
    "\\color{IndianRed}{\n",
    "\\begin{aligned}\n",
    "\\ell\\left(\\phi, \\mu_{0}, \\mu_{1}, \\Sigma\\right) &= \\log \\prod_{i=1}^{m} p\\left(x^{(i)} \\mid y^{(i)} ; \\mu_{0}, \\mu_{1}, \\Sigma\\right) p\\left(y^{(i)} ; \\phi\\right)\n",
    "\n",
    "\\\\&= \\sum_{i=1}^{m} \\log p\\left(x^{(i)} \\mid y^{(i)} ; \\mu_{0}, \\mu_{1}, \\Sigma\\right)\n",
    "+ \\sum_{i=1}^{m} \\log p\\left(y^{(i)} ; \\phi\\right)\n",
    "\\end{aligned}\n",
    "}\n",
    "$$\n",
    "\n",
    "<span style=\"color:IndianRed\">To calculate $\\phi$:\n",
    "\n",
    "$$\n",
    "\\color{IndianRed}{\n",
    "p(y^{(i)} ; \\phi) = y^{(i)}\\phi + (1 - y^{(i)})(1 - \\phi)\n",
    "}\n",
    "$$\n",
    "\n",
    "$$\n",
    "\\color{IndianRed}{\n",
    "\\text{let }{\\partial\\ell \\over \\partial\\phi} = \\sum_{i=1}^{m} \\frac{2y^{(i)} - 1}{y^{(i)}\\phi + (1 - y^{(i)})(1 - \\phi)} = 0 \\quad\\longrightarrow\\quad\\phi = \\frac{1}{m} \\sum_{i=1}^{m} 1\\left\\{y^{(i)}=1\\right\\}\n",
    "}\n",
    "$$\n",
    "\n",
    "<span style=\"color:IndianRed\">Use the same method to calculate $\\mu_0$, $\\mu_1$, and $\\Sigma$."
   ]
  },
  {
   "cell_type": "markdown",
   "metadata": {},
   "source": [
    "### **(e)**\n",
    "---\n",
    "\n",
    "[3 points $]$ Coding problem. In `src/p01e_gda.py`, fill in the code to calculate $\\phi, \\mu_{0}$, $\\mu_{1}$, and $\\Sigma$, use these parameters to derive $\\theta$, and use the resulting GDA model to make predictions on the validation set.\n",
    "\n",
    "#### <span style=\"color:IndianRed\">**Solution:**"
   ]
  },
  {
   "cell_type": "code",
   "execution_count": 4,
   "metadata": {},
   "outputs": [],
   "source": [
    "import numpy as np\n",
    "from src import util\n",
    "from src.linear_model import LinearModel\n",
    "from numpy import ndarray\n",
    "\n",
    "def p01e(train_path, eval_path, pred_path):\n",
    "    \"\"\"Problem 1(e): Gaussian discriminant analysis (GDA)\n",
    "\n",
    "    Args:\n",
    "        train_path: Path to CSV file containing dataset for training.\n",
    "        eval_path: Path to CSV file containing dataset for evaluation.\n",
    "        pred_path: Path to save predictions.\n",
    "    \"\"\"\n",
    "    # Load dataset\n",
    "    x_train, y_train = util.load_dataset(train_path, add_intercept=False)\n",
    "\n",
    "    # *** TODO: START CODE HERE ***\n",
    "    x_eval, y_eval = util.load_dataset(eval_path, add_intercept=True)\n",
    "    model = GDA()\n",
    "    model.fit(x_train, y_train)\n",
    "    y_pred = model.predict(x_eval)\n",
    "\n",
    "    accuracy = np.sum((y_pred > 0.5) == y_eval) / y_eval.shape[0]\n",
    "    print('Prediction accuracy is', accuracy)\n",
    "    util.plot(x_train, y_train, model.theta)\n",
    "    # *** END CODE HERE ***\n",
    "\n",
    "class GDA(LinearModel):\n",
    "    \"\"\"Gaussian Discriminant Analysis.\n",
    "\n",
    "    Example usage:\n",
    "        > clf = GDA()\n",
    "        > clf.fit(x_train, y_train)\n",
    "        > clf.predict(x_eval)\n",
    "    \"\"\"\n",
    "\n",
    "    def fit(self, x: ndarray, y: ndarray):\n",
    "        \"\"\"Fit a GDA model to training set given by x and y.\n",
    "\n",
    "        Args:\n",
    "            x: Training example inputs. Shape (m, n).\n",
    "            y: Training example labels. Shape (m,).\n",
    "\n",
    "        Returns:\n",
    "            theta: GDA model parameters.\n",
    "        \"\"\"\n",
    "        # *** TODO: START CODE HERE ***\n",
    "        m, n = x.shape\n",
    "        \n",
    "        phi = np.sum(y) / m\n",
    "        mu_0 = np.sum(np.reshape(1 - y, (m, 1)) * x, axis=0) / np.sum(1 - y)\n",
    "        mu_1 = np.sum(np.reshape(y, (m, 1)) * x, axis=0) / np.sum(y)\n",
    "        mu_y = np.dot((1 - y).reshape((m, 1)), mu_0.reshape((1, n))) \\\n",
    "               + np.dot(y.reshape((m, 1)), mu_1.reshape((1, n)))\n",
    "        sigma = np.dot((x - mu_y).T, x - mu_y) / m\n",
    "        \n",
    "        theta = np.linalg.inv(sigma).dot(mu_1 - mu_0)\n",
    "        theta_0 = (mu_0 + mu_1).T.dot(-theta) / 2 - np.log((1 - phi) / phi)\n",
    "        \n",
    "        self.theta = np.concatenate([[theta_0,], theta])\n",
    "        return self.theta\n",
    "        # *** END CODE HERE ***\n",
    "\n",
    "    def predict(self, x):\n",
    "        \"\"\"Make a prediction given new inputs x.\n",
    "\n",
    "        Args:\n",
    "            x: Inputs of shape (m, n).\n",
    "\n",
    "        Returns:\n",
    "            Outputs of shape (m,).\n",
    "        \"\"\"\n",
    "        # *** TODO: START CODE HERE ***\n",
    "        return 1 / (1 + np.exp(-x.dot(self.theta)))\n",
    "        # *** END CODE HERE\n"
   ]
  },
  {
   "cell_type": "code",
   "execution_count": 5,
   "metadata": {},
   "outputs": [
    {
     "name": "stdout",
     "output_type": "stream",
     "text": [
      "Prediction accuracy is 0.83\n"
     ]
    },
    {
     "data": {
      "image/png": "[encoded data removed]",
      "text/plain": [
       "<Figure size 432x288 with 1 Axes>"
      ]
     },
     "metadata": {
      "needs_background": "light"
     },
     "output_type": "display_data"
    }
   ],
   "source": [
    "p01e(train_path='./data/ds1_train.csv',\n",
    "     eval_path='./data/ds1_valid.csv',\n",
    "     pred_path='output/p01e_pred_1.txt')\n"
   ]
  },
  {
   "cell_type": "code",
   "execution_count": 6,
   "metadata": {},
   "outputs": [
    {
     "name": "stdout",
     "output_type": "stream",
     "text": [
      "Prediction accuracy is 0.91\n"
     ]
    },
    {
     "data": {
      "image/png": "[encoded data removed]",
      "text/plain": [
       "<Figure size 432x288 with 1 Axes>"
      ]
     },
     "metadata": {
      "needs_background": "light"
     },
     "output_type": "display_data"
    }
   ],
   "source": [
    "p01e(train_path='./data/ds2_train.csv',\n",
    "     eval_path='./data/ds2_valid.csv',\n",
    "     pred_path='output/p01e_pred_2.txt')"
   ]
  },
  {
   "cell_type": "markdown",
   "metadata": {},
   "source": [
    "### **(f)**\n",
    "---\n",
    "\n",
    "[5 points] For Dataset 1 , create a plot of the training data with $x_{1}$ on the horizontal axis, and $x_{2}$ on the vertical axis. To visualize the two classes, use a different symbol for examples $x^{(i)}$ with $y^{(i)}=0$ than for those with $y^{(i)}=1$. On the same figure, plot the decision boundary found by logistic regression in part (b). Make an identical plot with the decision boundary found by GDA in part (e).\n",
    "\n",
    "#### <span style=\"color:IndianRed\">**Solution:**"
   ]
  },
  {
   "cell_type": "code",
   "execution_count": 7,
   "metadata": {},
   "outputs": [],
   "source": [
    "import matplotlib.pyplot as plt\n",
    "\n",
    "def plot_2_model(x, y, theta0, theta1, save_path=None, correction=1.0):\n",
    "    \"\"\"Plot dataset and fitted logistic regression parameters.\n",
    "    Args:\n",
    "        x: Matrix of training examples, one per row.\n",
    "        y: Vector of labels in {0, 1}.\n",
    "        theta0: Vector of parameters for logistic regression model.\n",
    "        theta1: Vector of parameters for Gaussian discriminant analysis model.\n",
    "        save_path: Path to save the plot.\n",
    "        correction: Correction factor to apply (Problem 2(e) only).\n",
    "    \"\"\"\n",
    "    # Plot dataset\n",
    "    plt.figure()\n",
    "    plt.plot(x[y == 1, -2], x[y == 1, -1], 'bx', linewidth=2)\n",
    "    plt.plot(x[y == 0, -2], x[y == 0, -1], 'go', linewidth=2)\n",
    "\n",
    "    # Plot decision boundary (found by solving for theta0^T x = 0)\n",
    "    margin1 = (max(x[:, -2]) - min(x[:, -2]))*0.2\n",
    "    margin2 = (max(x[:, -1]) - min(x[:, -1]))*0.2\n",
    "    x1 = np.arange(min(x[:, -2])-margin1, max(x[:, -2])+margin1, 0.01)\n",
    "    x2_0 = -(theta0[0] / theta0[2] * correction + theta0[1] / theta0[2] * x1)\n",
    "    x2_1 = -(theta1[0] / theta1[2] * correction + theta1[1] / theta1[2] * x1)\n",
    "    plt.plot(x1, x2_0, c='red', linewidth=2)\n",
    "    plt.plot(x1, x2_1, c='orange', linewidth=2)\n",
    "    plt.xlim(x[:, -2].min()-margin1, x[:, -2].max()+margin1)\n",
    "    plt.ylim(x[:, -1].min()-margin2, x[:, -1].max()+margin2)\n",
    "\n",
    "    # Add labels and save to disk\n",
    "    plt.xlabel('x1')\n",
    "    plt.ylabel('x2')\n",
    "    if save_path is not None:\n",
    "        plt.savefig(save_path)"
   ]
  },
  {
   "cell_type": "code",
   "execution_count": 8,
   "metadata": {},
   "outputs": [],
   "source": [
    "from src.util import add_intercept\n",
    "\n",
    "def p01f(train_path, eval_path):\n",
    "    x_train, y_train = util.load_dataset(train_path, add_intercept=False)\n",
    "\n",
    "    model0 = LogisticRegression(eps=1e-5)\n",
    "    model0.fit(add_intercept(x_train), y_train)\n",
    "\n",
    "    model1 = GDA()\n",
    "    model1.fit(x_train, y_train)\n",
    "\n",
    "    x_eval, y_eval = util.load_dataset(eval_path, add_intercept=True)\n",
    "\n",
    "    y_pred0 = model0.predict(x_eval)\n",
    "    accuracy0 = np.sum((y_pred0 > 0.5) == y_eval) / y_eval.shape[0]\n",
    "    y_pred1 = model1.predict(x_eval)\n",
    "    accuracy1 = np.sum((y_pred1 > 0.5) == y_eval) / y_eval.shape[0]\n",
    "    print('LogReg prediction accuracy is', accuracy0)\n",
    "    print('GDA prediction accuracy is', accuracy1)\n",
    "\n",
    "    plot_2_model(x_train, y_train, model0.theta, model1.theta)"
   ]
  },
  {
   "cell_type": "code",
   "execution_count": 9,
   "metadata": {},
   "outputs": [
    {
     "name": "stdout",
     "output_type": "stream",
     "text": [
      "LogReg prediction accuracy is 0.9\n",
      "GDA prediction accuracy is 0.83\n"
     ]
    },
    {
     "data": {
      "image/png": "[encoded data removed]",
      "text/plain": [
       "<Figure size 432x288 with 1 Axes>"
      ]
     },
     "metadata": {
      "needs_background": "light"
     },
     "output_type": "display_data"
    }
   ],
   "source": [
    "p01f(train_path='./data/ds1_train.csv',\n",
    "     eval_path='./data/ds1_valid.csv')"
   ]
  },
  {
   "cell_type": "markdown",
   "metadata": {},
   "source": [
    "### **(g)**\n",
    "---\n",
    "\n",
    "[5 points] Repeat the steps in part (f) for Dataset 2. On which dataset does GDA seem to perform worse than logistic regression? Why might this be the case?\n",
    "\n",
    "#### <span style=\"color:IndianRed\">**Solution:**"
   ]
  },
  {
   "cell_type": "code",
   "execution_count": 10,
   "metadata": {},
   "outputs": [
    {
     "name": "stdout",
     "output_type": "stream",
     "text": [
      "LogReg prediction accuracy is 0.91\n",
      "GDA prediction accuracy is 0.91\n"
     ]
    },
    {
     "data": {
      "image/png": "[encoded data removed]",
      "text/plain": [
       "<Figure size 432x288 with 1 Axes>"
      ]
     },
     "metadata": {
      "needs_background": "light"
     },
     "output_type": "display_data"
    }
   ],
   "source": [
    "p01f(train_path='./data/ds2_train.csv',\n",
    "     eval_path='./data/ds2_valid.csv')"
   ]
  },
  {
   "cell_type": "markdown",
   "metadata": {},
   "source": [
    "#### <span style=\"color:IndianRed\">**Answer:**\n",
    "\n",
    "<span style=\"color:IndianRed\">On <u>Dataset 1</u> GDA performs worse than logistic regression. The reason is that $p(x|y)$ of Dataset 1 is not Gaussian distributed."
   ]
  },
  {
   "cell_type": "markdown",
   "metadata": {},
   "source": [
    "### **(h)**\n",
    "\n",
    "[3 extra credit points] For the dataset where GDA performed worse in parts (f) and (g), can you find a transformation of the $x^{(i)}$ 's such that GDA performs significantly better? What is this transformation?"
   ]
  },
  {
   "cell_type": "markdown",
   "metadata": {},
   "source": [
    "## **2. [30 points] Incomplete, Positive-Only Labels**\n",
    "\n",
    "In this problem we will consider training binary classifiers in situations where we do not have full access to the labels. In particular, we consider a scenario, which is not too infrequent in real life, where we have labels only for a subset of the positive examples. All the negative examples and the rest of the positive examples are unlabelled.\n",
    "\n",
    "That is, we assume a dataset $\\left\\{\\left(x^{(i)}, t^{(i)}, y^{(i)}\\right)\\right\\}_{i=1}^{m}$, where $t^{(i)} \\in\\{0,1\\}$ is the \"true\" label, and where\n",
    "\n",
    "$$\n",
    "y^{(i)}= \\begin{cases}1 & x^{(i)} \\text { is labeled } \\\\ 0 & \\text { otherwise. }\\end{cases}\n",
    "$$\n",
    "\n",
    "All labeled examples are positive, which is to say $p\\left(t^{(i)}=1 \\mid y^{(i)}=1\\right)=1$, but unlabeled examples may be positive or negative. Our goal in the problem is to construct a binary classifier $h$ of the true label $t$, with only access to the partial labels $y$. In other words, we want to construct $h$ such that $h\\left(x^{(i)}\\right) \\approx p\\left(t^{(i)}=1 \\mid x^{(i)}\\right)$ as closely as possible, using only $x$ and $y$.\n",
    "\n",
    "*Real world example: Suppose we maintain a database of proteins which are involved in transmitting signals across membranes. Every example added to the database is involved in a signaling process, but there are many proteins involved in cross-membrane signaling which are missing from the database. It would be useful to train a classifier to identify proteins that should be added to the database. In our notation, each example $x^{(i)}$ corresponds to a protein, $y^{(i)}=1$ if the protein is in the database and $0$ otherwise, and $t^{(i)}=1$ if the protein is involved in a cross-membrane signaling process and thus should be added to the database, and $0$ otherwise.*"
   ]
  },
  {
   "cell_type": "markdown",
   "metadata": {},
   "source": [
    "### **(a)**\n",
    "---\n",
    "\n",
    "[5 points] Suppose that each $y^{(i)}$ and $x^{(i)}$ are conditionally independent given $t^{(i)}$ :\n",
    "\n",
    "$$\n",
    "p\\left(y^{(i)}=1 \\mid t^{(i)}=1, x^{(i)}\\right)=p\\left(y^{(i)}=1 \\mid t^{(i)}=1\\right) .\n",
    "$$\n",
    "\n",
    "Note this is equivalent to saying that labeled examples were selected uniformly at random from the set of positive examples. Prove that the probability of an example being labeled differs by a constant factor from the probability of an example being positive. That is, show that $p\\left(t^{(i)}=1 \\mid x^{(i)}\\right)=p\\left(y^{(i)}=1 \\mid x^{(i)}\\right) / \\alpha$ for some $\\alpha \\in \\mathbb{R}$."
   ]
  },
  {
   "cell_type": "markdown",
   "metadata": {},
   "source": [
    "#### <span style=\"color:IndianRed\">**Solution:**\n",
    "\n",
    "<span style=\"color:IndianRed\">Using Bayes rule:\n",
    "\n",
    "$$\n",
    "\\color{IndianRed}{\n",
    "\\begin{align*}\n",
    "p(t^{(i)}=1, y^{(i)}=1, x^{(i)}) \n",
    "&= p(t^{(i)}=1 \\mid x^{(i)}) p(x^{(i)}) p(y^{(i)}=1 \\mid t^{(i)}=1, x^{(i)})\n",
    "\\\\&= p(y^{(i)}=1 \\mid x^{(i)}) p(x^{(i)}) p(t^{(i)}=1 \\mid y^{(i)}=1, x^{(i)})\n",
    "\\end{align*}\n",
    "}\n",
    "$$\n",
    "\n",
    "<span style=\"color:IndianRed\">Since\n",
    "$p(t^{(i)}=1 \\mid y^{(i)}=1, x^{(i)}) = 1$, and\n",
    "$p(y^{(i)}=1 \\mid t^{(i)}=1, x^{(i)}) = p(y^{(i)}=1 \\mid t^{(i)}=1)$\n",
    "\n",
    "$$\n",
    "\\color{IndianRed}{\n",
    "\\longrightarrow\\quad p(t^{(i)}=1 \\mid x^{(i)}) = p(y^{(i)}=1 \\mid x^{(i)}) / \\alpha\n",
    "}\n",
    "$$\n",
    "\n",
    "<span style=\"color:IndianRed\">where $\\alpha = p(y^{(i)}=1 \\mid t^{(i)}=1)$\n"
   ]
  },
  {
   "cell_type": "markdown",
   "metadata": {},
   "source": [
    "### **(b)**\n",
    "---\n",
    "\n",
    "[5 points] Suppose we want to estimate $\\alpha$ using a trained classifier $h$ and a held-out validation set $V$. Let $V_{+}$be the set of labeled (and hence positive) examples in $V$, given by $V_{+}=$ $\\left\\{x^{(i)} \\in V \\mid y^{(i)}=1\\right\\}$. Assuming that $h\\left(x^{(i)}\\right) \\approx p\\left(y^{(i)}=1 \\mid x^{(i)}\\right)$ for all examples $x^{(i)}$, show that\n",
    "\n",
    "$$\n",
    "h\\left(x^{(i)}\\right) \\approx \\alpha \\text { for all } x^{(i)} \\in V_{+} .\n",
    "$$\n",
    "\n",
    "You may assume that $p\\left(t^{(i)}=1 \\mid x^{(i)}\\right) \\approx 1$ when $x^{(i)} \\in V_{+}$."
   ]
  },
  {
   "cell_type": "markdown",
   "metadata": {},
   "source": [
    "#### <span style=\"color:IndianRed\">**Solution:**\n",
    "\n",
    "<span style=\"color:IndianRed\">for all $x^{(i)} \\in V_+$, since $p\\left(t^{(i)}=1 \\mid x^{(i)}\\right) \\approx 1$\n",
    "\n",
    "$$\n",
    "\\color{IndianRed}{\n",
    "\\begin{align*}\n",
    "h(x^{(i)}) \n",
    "&\\approx p(y^{(i)}=1 \\mid x^{(i)})\n",
    "\\\\& = \\alpha \\cdot p(t^{(i)}=1 \\mid x^{(i)})\n",
    "\\\\& \\approx \\alpha\n",
    "\\end{align*}}\n",
    "$$"
   ]
  },
  {
   "cell_type": "markdown",
   "metadata": {},
   "source": [
    "### **(c)**\n",
    "---\n",
    "\n",
    "[5 points ] Coding problem. The following three problems will deal with a dataset which we have provided in the following files:\n",
    "\n",
    "`data/ds3_{train, valid, test}.csv`\n",
    "\n",
    "Each file contains the following columns: $x_{1}, x_{2}, y$, and $t$. As in Problem 1 , there is one example per row.\n",
    "First we will consider the ideal case, where we have access to the true $t$-labels for training. In `src/p02cde_posonly`, write a logistic regression classifier that uses $x_{1}$ and $x_{2}$ as input features, and train it using the $t$-labels (you can ignore the $y$-labels for this part). Output the trained model's predictions on the test set to the file specified in the code.\n",
    "\n",
    "#### **(d)**\n",
    "\n",
    "[5 points] Coding problem. We now consider the case where the $t$-labels are unavailable, so you only have access to the $y$-labels at training time. Add to your code in `p02cde_posonly.py` to re-train the classifier (still using $x_{1}$ and $x_{2}$ as input features), but using the $y$-labels only.\n",
    "\n",
    "#### **(e)**\n",
    "\n",
    "[10 points] Coding problem. Using the validation set, estimate the constant $\\alpha$ by averaging your classifier's predictions over all labeled examples in the validation set:\n",
    "\n",
    "$$\n",
    "\\alpha \\approx \\frac{1}{\\left|V_{+}\\right|} \\sum_{x^{(i)} \\in V_{+}} h\\left(x^{(i)}\\right)\n",
    "$$\n",
    "\n",
    "Add code in `src/p02cde_posonly` by to rescale your classifier's predictions from part (d) using the estimated value for $\\alpha$.\n",
    "Finally, using a threshold of $p\\left(t^{(i)}=1 \\mid x^{(i)}\\right)=0.5$, make three separate plots with the decision boundaries from parts (c) - (e) plotted on top of the test set. Plot $x_{1}$ on the horizontal axis and $x_{2}$ on the vertical axis, and use two different symbols for the positive $\\left(t^{(i)}=1\\right)$ and negative $\\left(t^{(i)}=0\\right)$ examples. In each plot, indicate the separating hyperplane with a red line.\n",
    "\n",
    "#### <span style=\"color:IndianRed\">**Solution:**"
   ]
  },
  {
   "cell_type": "code",
   "execution_count": 11,
   "metadata": {},
   "outputs": [],
   "source": [
    "import numpy as np\n",
    "from src import util\n",
    "\n",
    "def p02(train_path, valid_path, test_path, pred_path):\n",
    "    \"\"\"Problem 2: Logistic regression for incomplete, positive-only labels.\n",
    "\n",
    "    Run under the following conditions:\n",
    "        1. on y-labels,\n",
    "        2. on l-labels,\n",
    "        3. on l-labels with correction factor alpha.\n",
    "\n",
    "    Args:\n",
    "        train_path: Path to CSV file containing training set.\n",
    "        valid_path: Path to CSV file containing validation set.\n",
    "        test_path: Path to CSV file containing test set.\n",
    "        pred_path: Path to save predictions.\n",
    "    \"\"\"\n",
    "    # *** TODO: START CODE HERE ***\n",
    "    x_valid, t_valid = util.load_dataset(valid_path, label_col='t', add_intercept=True)\n",
    "    _, y_valid = util.load_dataset(valid_path, label_col='y')\n",
    "    x_train, t_train = util.load_dataset(train_path, label_col='t', add_intercept=True)\n",
    "    _, y_train = util.load_dataset(train_path, label_col='y')\n",
    "    x_test, t_test = util.load_dataset(test_path, label_col='t', add_intercept=True)\n",
    "    # Part (c): Train and test on true labels\n",
    "    # Make sure to save outputs to pred_path_c\n",
    "    model = LogisticRegression()\n",
    "    model.fit(x_train, t_train)\n",
    "    t_pred = model.predict(x_valid)\n",
    "\n",
    "    print('(c): Prediction accuracy is', np.sum((t_pred > 0.5) == t_valid) / t_valid.shape[0])\n",
    "    util.plot(x_test, t_test, model.theta)\n",
    "    # Part (d): Train on y-labels and test on true labels\n",
    "    # Make sure to save outputs to pred_path_d\n",
    "    model = LogisticRegression()\n",
    "    model.fit(x_train, y_train)\n",
    "    y_pred = model.predict(x_valid)\n",
    "\n",
    "    print('(d): Prediction accuracy is', np.sum((y_pred > 0.5) == t_valid) / t_valid.shape[0])\n",
    "    util.plot(x_test, t_test, model.theta)\n",
    "    # Part (e): Apply correction factor using validation set and test on true labels\n",
    "    # Plot and use np.savetxt to save outputs to pred_path_e\n",
    "    alpha = np.sum(y_pred[y_valid == 1]) / np.sum(y_valid)\n",
    "    y_pred = y_pred / alpha\n",
    "    \n",
    "    print('(e): Prediction accuracy is', np.sum((y_pred > 0.5) == t_valid) / t_valid.shape[0])\n",
    "    util.plot(x_test, t_test, model.theta, correction=alpha)\n",
    "    # *** END CODER HERE"
   ]
  },
  {
   "cell_type": "code",
   "execution_count": 12,
   "metadata": {},
   "outputs": [
    {
     "name": "stdout",
     "output_type": "stream",
     "text": [
      "(c): Prediction accuracy is 0.9596774193548387\n",
      "(d): Prediction accuracy is 0.5\n",
      "(e): Prediction accuracy is 0.9516129032258065\n"
     ]
    },
    {
     "data": {
      "image/png": "[encoded data removed]",
      "text/plain": [
       "<Figure size 432x288 with 1 Axes>"
      ]
     },
     "metadata": {
      "needs_background": "light"
     },
     "output_type": "display_data"
    },
    {
     "data": {
      "image/png": "[encoded data removed]",
      "text/plain": [
       "<Figure size 432x288 with 1 Axes>"
      ]
     },
     "metadata": {
      "needs_background": "light"
     },
     "output_type": "display_data"
    },
    {
     "data": {
      "image/png": "[encoded data removed]",
      "text/plain": [
       "<Figure size 432x288 with 1 Axes>"
      ]
     },
     "metadata": {
      "needs_background": "light"
     },
     "output_type": "display_data"
    }
   ],
   "source": [
    "p02(train_path='./data/ds3_train.csv',\n",
    "    valid_path='./data/ds3_valid.csv',\n",
    "    test_path='./data/ds3_test.csv',\n",
    "    pred_path='output/p02X_pred.txt')"
   ]
  },
  {
   "cell_type": "markdown",
   "metadata": {},
   "source": [
    "**Remark:** We saw that the true probability $p(t \\mid x)$ was only a constant factor away from $p(y \\mid x)$. This means, if our task is to only rank examples (i.e. sort them) in a particular order (e.g, sort the proteins in order of being most likely to be involved in transmitting signals across membranes), then in fact we do not even need to estimate $\\alpha$. The rank based on $p(y \\mid x)$ will agree with the rank based on $p(t \\mid x)$."
   ]
  },
  {
   "cell_type": "markdown",
   "metadata": {},
   "source": [
    "## **3. [25 points] Poisson Regression**\n",
    "\n"
   ]
  },
  {
   "cell_type": "markdown",
   "metadata": {},
   "source": [
    "### **(a)**\n",
    "---\n",
    "\n",
    "[5 points] Consider the Poisson distribution parameterized by $\\lambda$ :\n",
    "\n",
    "$$\n",
    "p(y ; \\lambda)=\\frac{e^{-\\lambda} \\lambda^{y}}{y !} .\n",
    "$$\n",
    "\n",
    "Show that the Poisson distribution is in the exponential family, and clearly state the values for $b(y), \\eta, T(y)$, and $a(\\eta)$.\n"
   ]
  },
  {
   "cell_type": "markdown",
   "metadata": {},
   "source": [
    "#### <span style=\"color:IndianRed\">**Solution:**\n",
    "\n",
    "$$\n",
    "\\color{IndianRed}{\n",
    "\\begin{align*}\n",
    "p(y ; \\lambda)\n",
    "&= \\frac{e^{-\\lambda} \\lambda^{y}}{y !}\n",
    "\\\\&= {1\\over y!}\\exp(\\log\\lambda\\cdot y - \\lambda)\n",
    "\\end{align*}\n",
    "}\n",
    "$$\n",
    "\n",
    "<span style=\"color:IndianRed\">Thus, the natural parameter is given by $\\eta = \\log \\lambda$. Therefore $\\lambda = e^\\eta$:\n",
    "\n",
    "$$\n",
    "\\color{IndianRed}{\n",
    "\\begin{aligned}\n",
    "T(y) &=y \\\\\n",
    "a(\\eta) &= \\lambda \\\\\n",
    "&=e^\\eta \\\\\n",
    "b(y) &= {1\\over y!}\n",
    "\\end{aligned}\n",
    "}\n",
    "$$\n"
   ]
  },
  {
   "cell_type": "markdown",
   "metadata": {},
   "source": [
    "### **(b)**\n",
    "---\n",
    "\n",
    " [3 points] Consider performing regression using a GLM model with a Poisson response variable. What is the canonical response function for the family? (You may use the fact that a Poisson random variable with parameter $\\lambda$ has mean $\\lambda$.)\n",
    "\n"
   ]
  },
  {
   "cell_type": "markdown",
   "metadata": {},
   "source": [
    "#### <span style=\"color:IndianRed\">**Solution:**\n",
    "\n",
    "$$\n",
    "\\color{IndianRed}{\n",
    "g(\\eta) = E[T(y);\\eta] = {\\partial\\over \\partial\\eta}a(\\eta) = e^\\eta\n",
    "}\n",
    "$$"
   ]
  },
  {
   "cell_type": "markdown",
   "metadata": {},
   "source": [
    "### **(c)**\n",
    "---\n",
    "\n",
    "[7 points] For a training set $\\left\\{\\left(x^{(i)}, y^{(i)}\\right) ; i=1, \\ldots, m\\right\\}$, let the log-likelihood of an example be $\\log p\\left(y^{(i)} \\mid x^{(i)} ; \\theta\\right)$. By taking the derivative of the log-likelihood with respect to $\\theta_{j}$, derive the stochastic gradient ascent update rule for learning using a GLM model with Poisson responses $y$ and the canonical response function.\n"
   ]
  },
  {
   "cell_type": "markdown",
   "metadata": {},
   "source": [
    "#### <span style=\"color:IndianRed\">**Solution:**\n",
    "\n",
    "<span style=\"color:IndianRed\">The hypothesis is:\n",
    "\n",
    "$$\n",
    "\\color{IndianRed}{\n",
    "h_{\\theta}(x) = E[y \\mid x ; \\theta] = \\lambda = e^\\eta = e^{\\theta^{T} x}\n",
    "}\n",
    "$$\n",
    "\n",
    "<span style=\"color:IndianRed\">For GLM models, the stochastic gradient ascent update rule is:\n",
    "\n",
    "$$\n",
    "\\color{IndianRed}{\n",
    "\\begin{align*}\n",
    "\\theta_{j}:\n",
    "&=\\theta_{j}+\\alpha(y^{(i)}-h_{\\theta}(x^{(i)})) x_{j}^{(i)}\\\\\n",
    "&=\\theta_{j}+\\alpha(y^{(i)}-e^{\\theta^{T} x^{(i)}}) x_{j}^{(i)}\n",
    "\\end{align*}\n",
    "}\n",
    "$$\n"
   ]
  },
  {
   "cell_type": "markdown",
   "metadata": {},
   "source": [
    "### **(d)**\n",
    "---\n",
    "\n",
    "[7 points] **Coding problem.** Consider a website that wants to predict its daily traffic. The website owners have collected a dataset of past traffic to their website, along with some features which they think are useful in predicting the number of visitors per day. The dataset is split into train/valid/test sets and follows the same format as Datasets 1-3:\n",
    "\n",
    "`data/ds4_{train, valid}.csv`\n",
    "\n",
    "We will apply Poisson regression to model the number of visitors per day. Note that applying Poisson regression in particular assumes that the data follows a Poisson distribution whose natural parameter is a linear combination of the input features $\\left(\\right.$ i.e., $\\left.\\eta=\\theta^{T} x\\right)$. In `src/p03d_poisson.py`, implement Poisson regression for this dataset and use gradient ascent to maximize the log-likelihood of $\\theta$.\n",
    "\n",
    "#### <span style=\"color:IndianRed\">**Solution:**"
   ]
  },
  {
   "cell_type": "code",
   "execution_count": 13,
   "metadata": {},
   "outputs": [],
   "source": [
    "import matplotlib.pyplot as plt\n",
    "import numpy as np\n",
    "from src import util\n",
    "from src.linear_model import LinearModel\n",
    "from numpy import ndarray\n",
    "\n",
    "def p03(lr, train_path, eval_path, pred_path):\n",
    "    \"\"\"Problem 3(d): Poisson regression with gradient ascent.\n",
    "\n",
    "    Args:\n",
    "        lr: Learning rate for gradient ascent.\n",
    "        train_path: Path to CSV file containing dataset for training.\n",
    "        eval_path: Path to CSV file containing dataset for evaluation.\n",
    "        pred_path: Path to save predictions.\n",
    "    \"\"\"\n",
    "    # Load training set\n",
    "    x_train, y_train = util.load_dataset(train_path, add_intercept=False)\n",
    "\n",
    "    # *** START CODE HERE ***\n",
    "    # Fit a Poisson Regression mo del\n",
    "    model = PoissonRegression(step_size=lr)\n",
    "    model.fit(x_train, y_train)\n",
    "    # Run on the validation set, and use np.savetxt to save outputs to pred_path\n",
    "    x_eval, y_eval = util.load_dataset(eval_path, add_intercept=False)\n",
    "    y_pred = model.predict(x_eval)\n",
    "\n",
    "    plt.plot(y_eval, y_pred, 'bx')\n",
    "    plt.xlabel('true counts')\n",
    "    plt.ylabel('predict counts')\n",
    "    # *** END CODE HERE ***\n",
    "\n",
    "\n",
    "class PoissonRegression(LinearModel):\n",
    "    \"\"\"Poisson Regression.\n",
    "\n",
    "    Example usage:\n",
    "        > clf = PoissonRegression(step_size=lr)\n",
    "        > clf.fit(x_train, y_train)\n",
    "        > clf.predict(x_eval)\n",
    "    \"\"\"\n",
    "\n",
    "    def fit(self, x, y):\n",
    "        \"\"\"Run gradient ascent to maximize likelihood for Poisson regression.\n",
    "\n",
    "        Args:\n",
    "            x: Training example inputs. Shape (m, n).\n",
    "            y: Training example labels. Shape (m,).\n",
    "        \"\"\"\n",
    "        # *** START CODE HERE ***\n",
    "        m, n = np.shape(x)\n",
    "        self.theta = np.zeros(n)\n",
    "        while True:\n",
    "            score = np.exp(np.dot(x, self.theta))\n",
    "            theta_old = self.theta.copy()\n",
    "            self.theta += self.step_size * x.T.dot(y - score) / m\n",
    "            if np.linalg.norm(self.theta - theta_old) < self.eps:\n",
    "                break\n",
    "        # *** END CODE HERE ***\n",
    "\n",
    "    def predict(self, x):\n",
    "        \"\"\"Make a prediction given inputs x.\n",
    "\n",
    "        Args:\n",
    "            x: Inputs of shape (m, n).\n",
    "\n",
    "        Returns:\n",
    "            Floating-point prediction for each input, shape (m,).\n",
    "        \"\"\"\n",
    "        # *** START CODE HERE ***\n",
    "        return np.exp(np.dot(x, self.theta))\n",
    "        # *** END CODE HERE ***"
   ]
  },
  {
   "cell_type": "code",
   "execution_count": 14,
   "metadata": {},
   "outputs": [
    {
     "data": {
      "image/png": "[encoded data removed]",
      "text/plain": [
       "<Figure size 432x288 with 1 Axes>"
      ]
     },
     "metadata": {
      "needs_background": "light"
     },
     "output_type": "display_data"
    }
   ],
   "source": [
    "p03(lr=1e-7,\n",
    "    train_path='./data/ds4_train.csv',\n",
    "    eval_path='./data/ds4_valid.csv',\n",
    "    pred_path='output/p03d_pred.txt')"
   ]
  },
  {
   "cell_type": "markdown",
   "metadata": {},
   "source": [
    "## **4. [15 points] Convexity of Generalized Linear Models**\n",
    "\n",
    "In this question we will explore and show some nice properties of Generalized Linear Models, specifically those related to its use of Exponential Family distributions to model the output.\n",
    "\n",
    "Most commonly, GLMs are trained by using the negative log-likelihood (NLL) as the loss function. This is mathematically equivalent to Maximum Likelihood Estimation (i.e., maximizing the log-likelihood is equivalent to minimizing the negative log-likelihood). In this problem, our goal is to show that the NLL loss of a GLM is a convex function w.r.t the model parameters. As a reminder, this is convenient because a convex function is one for which any local minimum is also a global minimum.\n",
    "\n",
    "To recap, an exponential family distribution is one whose probability density can be represented\n",
    "\n",
    "$$\n",
    "p(y ; \\eta)=b(y) \\exp \\left(\\eta^{T} T(y)-a(\\eta)\\right)\n",
    "$$\n",
    "\n",
    "where $\\eta$ is the natural parameter of the distribution. Moreover, in a Generalized Linear Model, $\\eta$ is modeled as $\\theta^{T} x$, where $x \\in \\mathbb{R}^{n}$ are the input features of the example, and $\\theta \\in \\mathbb{R}^{n}$ are learnable parameters. In order to show that the NLL loss is convex for GLMs, we break down the process into sub-parts, and approach them one at a time. Our approach is to show that the second derivative (i.e., Hessian) of the loss w.r.t the model parameters is Positive Semi-Definite (PSD) at all values of the model parameters. We will also show some nice properties of Exponential Family distributions as intermediate steps.\n",
    "\n",
    "For the sake of convenience we restrict ourselves to the case where $\\eta$ is a scalar. Assume $p(Y \\mid X ; \\theta) \\sim$ ExponentialFamily $(\\eta)$, where $\\eta \\in \\mathbb{R}$ is a scalar, and $T(y)=y$. This makes the exponential family representation take the form\n",
    "\n",
    "$$\n",
    "p(y ; \\eta)=b(y) \\exp (\\eta y-a(\\eta)) .\n",
    "$$\n",
    "\n"
   ]
  },
  {
   "cell_type": "markdown",
   "metadata": {},
   "source": [
    "### **(a)** \n",
    "---\n",
    "\n",
    "[5 points] Derive an expression for the mean of the distribution. Show that $\\mathbb{E}[Y \\mid X ; \\theta]$ can be represented as the gradient of the log-partition function $a$ with respect to the natural parameter $\\eta$.\n",
    "\n",
    "**Hint:** Start with observing that $\\frac{\\partial}{\\partial \\eta} \\int p(y ; \\eta) d y=\\int \\frac{\\partial}{\\partial \\eta} p(y ; \\eta) d y$.\n",
    "\n"
   ]
  },
  {
   "cell_type": "markdown",
   "metadata": {},
   "source": [
    "#### <span style=\"color:IndianRed\">**Solution:**\n",
    "\n",
    "$$\n",
    "\\color{IndianRed}{\n",
    "\\begin{align*}\n",
    "\\frac{\\partial}{\\partial \\eta} p(y ; \\eta) \n",
    "&= \\frac{\\partial}{\\partial \\eta} b(y) \\exp (\\eta y-a(\\eta)) \\\\\n",
    "&= (y - \\frac{\\partial a(\\eta)}{\\partial \\eta}) \n",
    "\tb(y) \\exp (\\eta y-a(\\eta)) \\\\\n",
    "&= p(y;\\eta) (y - \\frac{\\partial a(\\eta)}{\\partial \\eta}) & (1)\n",
    "\\end{align*}\n",
    "}\n",
    "$$\n",
    "\n",
    "<span style=\"color:IndianRed\">Observing that\n",
    "\n",
    "$$\n",
    "\\color{IndianRed}{\n",
    "\\begin{align*}\n",
    "\\frac{\\partial}{\\partial \\eta} \\int p(y ; \\eta) d y\n",
    "&=\\int \\frac{\\partial}{\\partial \\eta} p(y ; \\eta) d y \\\\\n",
    "&=\\int p(y;\\eta) (y - \\frac{\\partial a(\\eta)}{\\partial \\eta}) d y \\\\\n",
    "&=\\int  p(y;\\eta) y d y - \n",
    "\t\\frac{\\partial a(\\eta)}{\\partial \\eta} \\int p(y;\\eta) d y \\\\\n",
    "\\end{align*}\n",
    "}\n",
    "$$\n",
    "\n",
    "<span style=\"color:IndianRed\">Thus,\n",
    "\n",
    "$$\n",
    "\\color{IndianRed}{\n",
    "\\begin{align*}\n",
    "E[Y\\mid X;\\theta] \n",
    "&= \\int p(y;\\eta) y d y \\\\\n",
    "&= \\frac{\\partial}{\\partial \\eta} \\int p(y ; \\eta) d y + \n",
    "\t\\frac{\\partial a(\\eta)}{\\partial \\eta} \\int p(y;\\eta) d y \\\\\n",
    "&= \\frac{\\partial}{\\partial \\eta} 1 +\n",
    "\t\\frac{\\partial a(\\eta)}{\\partial \\eta} 1 \\\\\n",
    "&= \\frac{\\partial a(\\eta)}{\\partial \\eta}\n",
    "\\end{align*}\n",
    "}\n",
    "$$\n"
   ]
  },
  {
   "cell_type": "markdown",
   "metadata": {},
   "source": [
    "### **(b)**\n",
    "---\n",
    "\n",
    "[5 points] Next, derive an expression for the variance of the distribution. In particular, show that $\\operatorname{Var}(Y \\mid X ; \\theta)$ can be expressed as the derivative of the mean w.r.t $\\eta$ (i.e., the second derivative of the log-partition function $a(\\eta)$ w.r.t the natural parameter $\\eta$.)\n",
    "\n"
   ]
  },
  {
   "cell_type": "markdown",
   "metadata": {},
   "source": [
    "#### <span style=\"color:IndianRed\">**Solution:**\n",
    "\n",
    "$$\n",
    "\\color{IndianRed}{\n",
    "\\begin{align*}\n",
    "\\operatorname{Var}[Y\\mid X;\\theta]\n",
    "&= E[Y^2\\mid X;\\theta] - E[Y\\mid X;\\theta]^2 \\\\\n",
    "&= \\int p(y;\\eta)y^2dy - \\left(\\int p(y;\\eta)ydy\\right)^2 \\\\\n",
    "&= \\int p(y;\\eta)\\left(y - \\int yp(y;\\eta)dy\\right)ydy \\\\\n",
    "&= \\int p(y;\\eta) (y - \\frac{\\partial a(\\eta)}{\\partial \\eta}) ydy \\\\\n",
    "&= \\int \\frac{\\partial}{\\partial \\eta} p(y ; \\eta) ydy & (5)\\\\\n",
    "&= \\frac{\\partial}{\\partial \\eta} \\int p(y ; \\eta) ydy \\\\\n",
    "&= \\frac{\\partial^2 a(\\eta)}{\\partial \\eta^2}\n",
    "\\end{align*}\n",
    "}\n",
    "$$\n",
    "\n",
    "<span style=\"color:IndianRed\">**Remark:** Fifth equation uses equation $(1)$ in (a)"
   ]
  },
  {
   "cell_type": "markdown",
   "metadata": {},
   "source": [
    "### **(c)**\n",
    "---\n",
    "\n",
    "[5 points] Finally, write out the loss function $\\ell(\\theta)$, the NLL of the distribution, as a function of $\\theta$. Then, calculate the Hessian of the loss w.r.t $\\theta$, and show that it is always PSD. This concludes the proof that NLL loss of GLM is convex.\n",
    "\n",
    "**Hint:** Use the chain rule of calculus along with the results of the previous parts to simplify your derivations.\n",
    "\n"
   ]
  },
  {
   "cell_type": "markdown",
   "metadata": {},
   "source": [
    "#### <span style=\"color:IndianRed\">**Solution:**"
   ]
  },
  {
   "cell_type": "markdown",
   "metadata": {},
   "source": [
    "**Remark:** The main takeaways from this problem are:\n",
    "- Any GLM model is convex in its model parameters.\n",
    "- The exponential family of probability distributions are mathematically nice. Whereas calculating mean and variance of distributions in general involves integrals (hard), surprisingly we can calculate them using derivatives (easy) for exponential family."
   ]
  }
 ],
 "metadata": {
  "interpreter": {
   "hash": "aee8b7b246df8f9039afb4144a1f6fd8d2ca17a180786b69acc140d282b71a49"
  },
  "kernelspec": {
   "display_name": "Python 3.9.1 64-bit",
   "language": "python",
   "name": "python3"
  },
  "language_info": {
   "codemirror_mode": {
    "name": "ipython",
    "version": 3
   },
   "file_extension": ".py",
   "mimetype": "text/x-python",
   "name": "python",
   "nbconvert_exporter": "python",
   "pygments_lexer": "ipython3",
   "version": "3.9.1"
  },
  "orig_nbformat": 4
 },
 "nbformat": 4,
 "nbformat_minor": 2
}
